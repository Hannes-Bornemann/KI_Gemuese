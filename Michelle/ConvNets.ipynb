{
 "cells": [
  {
   "cell_type": "code",
   "execution_count": 16,
   "metadata": {
    "collapsed": true
   },
   "outputs": [],
   "source": [
    "#Convolutional Neural Network on MNIST handwritten digit dataset"
   ]
  },
  {
   "cell_type": "code",
   "execution_count": 17,
   "metadata": {},
   "outputs": [],
   "source": [
    "#importing libraries\n",
    "import keras\n",
    "from keras.models import Sequential\n",
    "from keras.layers import Dense, Dropout, Flatten, Conv2D, MaxPooling2D, Activation, Convolution2D\n",
    "from sklearn.model_selection import train_test_split\n",
    "import pandas as pd\n",
    "import numpy as np "
   ]
  },
  {
   "cell_type": "code",
   "execution_count": 18,
   "metadata": {
    "collapsed": true
   },
   "outputs": [
    {
     "data": {
      "text/plain": [
       "(59, 15626)"
      ]
     },
     "execution_count": 18,
     "metadata": {},
     "output_type": "execute_result"
    }
   ],
   "source": [
    "#col_names = ['contour number', 'aspect ratio', 'extent', 'Blue', 'Green', 'Red', 'Hue', 'class']\n",
    "data = pd.read_csv(\"gemuese_pixelwerte.csv\", skiprows=1, header=None)\n",
    "data.head(10)\n",
    "data.shape"
   ]
  },
  {
   "cell_type": "code",
   "execution_count": 19,
   "metadata": {},
   "outputs": [],
   "source": [
    "# Anpassen der Bildgröße\n",
    "image_size = 125\n",
    "num_pixels = image_size * image_size\n",
    "\n",
    "# Extrahieren der Labels und Pixelwerte\n",
    "labels = data.iloc[:, 0].values\n",
    "pixels = data.iloc[:, 1:].values.astype('uint8')\n",
    "\n",
    "# Reshaping der Pixelwerte entsprechend der Bildgröße\n",
    "pixels = pixels.reshape(-1, image_size, image_size, 1)\n",
    "\n",
    "# One-Hot-Encoding für die Labels (3 Klassen)\n",
    "labels_one_hot = keras.utils.to_categorical(labels, num_classes=3)\n",
    "\n",
    "# Aufteilung der Daten in Trainings- und Testsets\n",
    "X_train, X_test, y_train, y_test = train_test_split(pixels, labels_one_hot, test_size=0.2, random_state=42)"
   ]
  },
  {
   "cell_type": "code",
   "execution_count": 20,
   "metadata": {},
   "outputs": [],
   "source": [
    "# CNN-Modell\n",
    "model = Sequential()\n",
    "model.add(Conv2D(32, (3, 3), activation='relu', input_shape=(image_size, image_size, 1)))\n",
    "model.add(MaxPooling2D(pool_size=(2, 2)))\n",
    "model.add(Flatten())\n",
    "model.add(Dense(100, activation='relu'))\n",
    "model.add(Dropout(0.5))\n",
    "model.add(Dense(3, activation='softmax'))  # Anzahl der Ausgabeneuronen auf 3 ändern\n",
    "model.compile(loss='categorical_crossentropy', optimizer='adam', metrics=['accuracy'])  # Optimizer auf 'adam' ändern\n"
   ]
  },
  {
   "cell_type": "code",
   "execution_count": 21,
   "metadata": {},
   "outputs": [
    {
     "name": "stdout",
     "output_type": "stream",
     "text": [
      "Model: \"sequential_3\"\n",
      "_________________________________________________________________\n",
      " Layer (type)                Output Shape              Param #   \n",
      "=================================================================\n",
      " conv2d_3 (Conv2D)           (None, 123, 123, 32)      320       \n",
      "                                                                 \n",
      " max_pooling2d_3 (MaxPoolin  (None, 61, 61, 32)        0         \n",
      " g2D)                                                            \n",
      "                                                                 \n",
      " flatten_3 (Flatten)         (None, 119072)            0         \n",
      "                                                                 \n",
      " dense_6 (Dense)             (None, 100)               11907300  \n",
      "                                                                 \n",
      " dropout_3 (Dropout)         (None, 100)               0         \n",
      "                                                                 \n",
      " dense_7 (Dense)             (None, 3)                 303       \n",
      "                                                                 \n",
      "=================================================================\n",
      "Total params: 11907923 (45.43 MB)\n",
      "Trainable params: 11907923 (45.43 MB)\n",
      "Non-trainable params: 0 (0.00 Byte)\n",
      "_________________________________________________________________\n"
     ]
    }
   ],
   "source": [
    "model.summary()"
   ]
  },
  {
   "cell_type": "code",
   "execution_count": 22,
   "metadata": {},
   "outputs": [
    {
     "name": "stdout",
     "output_type": "stream",
     "text": [
      "Epoch 1/10\n",
      "2/2 [==============================] - 1s 218ms/step - loss: 991.5764 - accuracy: 0.3830 - val_loss: 3925.1589 - val_accuracy: 0.1667\n",
      "Epoch 2/10\n",
      "2/2 [==============================] - 0s 140ms/step - loss: 2748.8347 - accuracy: 0.3617 - val_loss: 959.5187 - val_accuracy: 0.1667\n",
      "Epoch 3/10\n",
      "2/2 [==============================] - 0s 140ms/step - loss: 795.3228 - accuracy: 0.3617 - val_loss: 201.6800 - val_accuracy: 0.4167\n",
      "Epoch 4/10\n",
      "2/2 [==============================] - 0s 139ms/step - loss: 659.4441 - accuracy: 0.3830 - val_loss: 246.0416 - val_accuracy: 0.4167\n",
      "Epoch 5/10\n",
      "2/2 [==============================] - 0s 135ms/step - loss: 376.2414 - accuracy: 0.4043 - val_loss: 96.9540 - val_accuracy: 0.4167\n",
      "Epoch 6/10\n",
      "2/2 [==============================] - 0s 137ms/step - loss: 285.2640 - accuracy: 0.2766 - val_loss: 53.0408 - val_accuracy: 0.4167\n",
      "Epoch 7/10\n",
      "2/2 [==============================] - 0s 136ms/step - loss: 87.3315 - accuracy: 0.2340 - val_loss: 1.0997 - val_accuracy: 0.1667\n",
      "Epoch 8/10\n",
      "2/2 [==============================] - 0s 134ms/step - loss: 1.0983 - accuracy: 0.3830 - val_loss: 1.1000 - val_accuracy: 0.1667\n",
      "Epoch 9/10\n",
      "2/2 [==============================] - 0s 138ms/step - loss: 6.2593 - accuracy: 0.3830 - val_loss: 1.2629 - val_accuracy: 0.1667\n",
      "Epoch 10/10\n",
      "2/2 [==============================] - 0s 136ms/step - loss: 1.3476 - accuracy: 0.3830 - val_loss: 1.1028 - val_accuracy: 0.0833\n"
     ]
    },
    {
     "data": {
      "text/plain": [
       "<keras.src.callbacks.History at 0x7efd801567a0>"
      ]
     },
     "execution_count": 22,
     "metadata": {},
     "output_type": "execute_result"
    }
   ],
   "source": [
    "# Modelltraining\n",
    "model.fit(X_train, y_train, validation_data=(X_test, y_test), epochs=10, batch_size=32)  \n"
   ]
  },
  {
   "cell_type": "code",
   "execution_count": 23,
   "metadata": {},
   "outputs": [
    {
     "name": "stdout",
     "output_type": "stream",
     "text": [
      "1/1 [==============================] - 0s 30ms/step - loss: 1.1028 - accuracy: 0.0833\n"
     ]
    },
    {
     "data": {
      "text/plain": [
       "[1.102821946144104, 0.0833333358168602]"
      ]
     },
     "execution_count": 23,
     "metadata": {},
     "output_type": "execute_result"
    }
   ],
   "source": [
    "# Modellbewertung\n",
    "model.evaluate(X_test, y_test)"
   ]
  },
  {
   "cell_type": "code",
   "execution_count": 24,
   "metadata": {
    "collapsed": true
   },
   "outputs": [],
   "source": [
    "#imporove accuracy by more epocs till the loss is almost same"
   ]
  },
  {
   "cell_type": "code",
   "execution_count": null,
   "metadata": {},
   "outputs": [],
   "source": []
  },
  {
   "cell_type": "code",
   "execution_count": null,
   "metadata": {},
   "outputs": [],
   "source": []
  }
 ],
 "metadata": {
  "kernelspec": {
   "display_name": "Python 3",
   "language": "python",
   "name": "python3"
  },
  "language_info": {
   "codemirror_mode": {
    "name": "ipython",
    "version": 3
   },
   "file_extension": ".py",
   "mimetype": "text/x-python",
   "name": "python",
   "nbconvert_exporter": "python",
   "pygments_lexer": "ipython3",
   "version": "3.10.12"
  }
 },
 "nbformat": 4,
 "nbformat_minor": 2
}
