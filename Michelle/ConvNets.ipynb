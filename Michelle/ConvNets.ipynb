{
 "cells": [
  {
   "cell_type": "code",
   "execution_count": 1,
   "metadata": {
    "collapsed": true
   },
   "outputs": [],
   "source": [
    "#Convolutional Neural Network on MNIST handwritten digit dataset"
   ]
  },
  {
   "cell_type": "code",
   "execution_count": 2,
   "metadata": {},
   "outputs": [],
   "source": [
    "#importing libraries\n",
    "import keras\n",
    "from keras.models import Sequential\n",
    "from tensorflow.keras.layers import Dense, Dropout, Activation, Flatten\n",
    "from tensorflow.keras.layers import Conv2D as Convolution2D, MaxPooling2D\n",
    "from sklearn.model_selection import train_test_split\n",
    "import pandas as pd\n",
    "import numpy as np "
   ]
  },
  {
   "cell_type": "code",
   "execution_count": 4,
   "metadata": {
    "collapsed": true
   },
   "outputs": [
    {
     "data": {
      "text/html": [
       "<div>\n",
       "<style scoped>\n",
       "    .dataframe tbody tr th:only-of-type {\n",
       "        vertical-align: middle;\n",
       "    }\n",
       "\n",
       "    .dataframe tbody tr th {\n",
       "        vertical-align: top;\n",
       "    }\n",
       "\n",
       "    .dataframe thead th {\n",
       "        text-align: right;\n",
       "    }\n",
       "</style>\n",
       "<table border=\"1\" class=\"dataframe\">\n",
       "  <thead>\n",
       "    <tr style=\"text-align: right;\">\n",
       "      <th></th>\n",
       "      <th>contour number</th>\n",
       "      <th>aspect ratio</th>\n",
       "      <th>extent</th>\n",
       "      <th>Blue</th>\n",
       "      <th>Green</th>\n",
       "      <th>Red</th>\n",
       "      <th>Hue</th>\n",
       "      <th>class</th>\n",
       "    </tr>\n",
       "  </thead>\n",
       "  <tbody>\n",
       "    <tr>\n",
       "      <th>0</th>\n",
       "      <td>28</td>\n",
       "      <td>0.923077</td>\n",
       "      <td>0.803775</td>\n",
       "      <td>42.769815</td>\n",
       "      <td>97.239460</td>\n",
       "      <td>115.102867</td>\n",
       "      <td>19.023609</td>\n",
       "      <td>0</td>\n",
       "    </tr>\n",
       "    <tr>\n",
       "      <th>1</th>\n",
       "      <td>68</td>\n",
       "      <td>0.979804</td>\n",
       "      <td>0.836557</td>\n",
       "      <td>63.621205</td>\n",
       "      <td>104.295904</td>\n",
       "      <td>104.446747</td>\n",
       "      <td>29.446747</td>\n",
       "      <td>0</td>\n",
       "    </tr>\n",
       "    <tr>\n",
       "      <th>2</th>\n",
       "      <td>51</td>\n",
       "      <td>0.760961</td>\n",
       "      <td>0.823015</td>\n",
       "      <td>59.701164</td>\n",
       "      <td>99.514131</td>\n",
       "      <td>103.025769</td>\n",
       "      <td>32.987531</td>\n",
       "      <td>0</td>\n",
       "    </tr>\n",
       "    <tr>\n",
       "      <th>3</th>\n",
       "      <td>31</td>\n",
       "      <td>0.957265</td>\n",
       "      <td>0.767948</td>\n",
       "      <td>50.077372</td>\n",
       "      <td>116.466180</td>\n",
       "      <td>137.658394</td>\n",
       "      <td>22.445255</td>\n",
       "      <td>0</td>\n",
       "    </tr>\n",
       "    <tr>\n",
       "      <th>4</th>\n",
       "      <td>50</td>\n",
       "      <td>0.828162</td>\n",
       "      <td>0.845766</td>\n",
       "      <td>60.658955</td>\n",
       "      <td>104.919383</td>\n",
       "      <td>113.961094</td>\n",
       "      <td>34.713985</td>\n",
       "      <td>0</td>\n",
       "    </tr>\n",
       "    <tr>\n",
       "      <th>5</th>\n",
       "      <td>47</td>\n",
       "      <td>0.890923</td>\n",
       "      <td>0.828608</td>\n",
       "      <td>52.141768</td>\n",
       "      <td>97.165096</td>\n",
       "      <td>107.391655</td>\n",
       "      <td>28.818304</td>\n",
       "      <td>0</td>\n",
       "    </tr>\n",
       "    <tr>\n",
       "      <th>6</th>\n",
       "      <td>45</td>\n",
       "      <td>0.950329</td>\n",
       "      <td>0.748096</td>\n",
       "      <td>48.570281</td>\n",
       "      <td>121.473896</td>\n",
       "      <td>109.674699</td>\n",
       "      <td>15.439759</td>\n",
       "      <td>0</td>\n",
       "    </tr>\n",
       "    <tr>\n",
       "      <th>7</th>\n",
       "      <td>39</td>\n",
       "      <td>0.901044</td>\n",
       "      <td>0.802361</td>\n",
       "      <td>56.255943</td>\n",
       "      <td>103.945878</td>\n",
       "      <td>107.513404</td>\n",
       "      <td>25.372281</td>\n",
       "      <td>0</td>\n",
       "    </tr>\n",
       "    <tr>\n",
       "      <th>8</th>\n",
       "      <td>53</td>\n",
       "      <td>0.539305</td>\n",
       "      <td>0.713518</td>\n",
       "      <td>44.690566</td>\n",
       "      <td>132.909434</td>\n",
       "      <td>108.475472</td>\n",
       "      <td>15.988679</td>\n",
       "      <td>0</td>\n",
       "    </tr>\n",
       "    <tr>\n",
       "      <th>9</th>\n",
       "      <td>47</td>\n",
       "      <td>0.915618</td>\n",
       "      <td>0.802961</td>\n",
       "      <td>51.757838</td>\n",
       "      <td>96.647207</td>\n",
       "      <td>110.642883</td>\n",
       "      <td>25.927928</td>\n",
       "      <td>0</td>\n",
       "    </tr>\n",
       "  </tbody>\n",
       "</table>\n",
       "</div>"
      ],
      "text/plain": [
       "   contour number  aspect ratio    extent       Blue       Green         Red  \\\n",
       "0              28      0.923077  0.803775  42.769815   97.239460  115.102867   \n",
       "1              68      0.979804  0.836557  63.621205  104.295904  104.446747   \n",
       "2              51      0.760961  0.823015  59.701164   99.514131  103.025769   \n",
       "3              31      0.957265  0.767948  50.077372  116.466180  137.658394   \n",
       "4              50      0.828162  0.845766  60.658955  104.919383  113.961094   \n",
       "5              47      0.890923  0.828608  52.141768   97.165096  107.391655   \n",
       "6              45      0.950329  0.748096  48.570281  121.473896  109.674699   \n",
       "7              39      0.901044  0.802361  56.255943  103.945878  107.513404   \n",
       "8              53      0.539305  0.713518  44.690566  132.909434  108.475472   \n",
       "9              47      0.915618  0.802961  51.757838   96.647207  110.642883   \n",
       "\n",
       "         Hue  class  \n",
       "0  19.023609      0  \n",
       "1  29.446747      0  \n",
       "2  32.987531      0  \n",
       "3  22.445255      0  \n",
       "4  34.713985      0  \n",
       "5  28.818304      0  \n",
       "6  15.439759      0  \n",
       "7  25.372281      0  \n",
       "8  15.988679      0  \n",
       "9  25.927928      0  "
      ]
     },
     "execution_count": 4,
     "metadata": {},
     "output_type": "execute_result"
    }
   ],
   "source": [
    "col_names = ['contour number', 'aspect ratio', 'extent', 'Blue', 'Green', 'Red', 'Hue', 'class']\n",
    "data = pd.read_csv(\"output.csv\", skiprows=1, header=None, names=col_names)\n",
    "data.head(10)"
   ]
  },
  {
   "cell_type": "code",
   "execution_count": 5,
   "metadata": {},
   "outputs": [
    {
     "data": {
      "text/html": [
       "<div>\n",
       "<style scoped>\n",
       "    .dataframe tbody tr th:only-of-type {\n",
       "        vertical-align: middle;\n",
       "    }\n",
       "\n",
       "    .dataframe tbody tr th {\n",
       "        vertical-align: top;\n",
       "    }\n",
       "\n",
       "    .dataframe thead th {\n",
       "        text-align: right;\n",
       "    }\n",
       "</style>\n",
       "<table border=\"1\" class=\"dataframe\">\n",
       "  <thead>\n",
       "    <tr style=\"text-align: right;\">\n",
       "      <th></th>\n",
       "      <th>contour number</th>\n",
       "      <th>aspect ratio</th>\n",
       "      <th>extent</th>\n",
       "      <th>Blue</th>\n",
       "      <th>Green</th>\n",
       "      <th>Red</th>\n",
       "      <th>Hue</th>\n",
       "      <th>class</th>\n",
       "    </tr>\n",
       "  </thead>\n",
       "  <tbody>\n",
       "    <tr>\n",
       "      <th>0</th>\n",
       "      <td>28</td>\n",
       "      <td>0.923077</td>\n",
       "      <td>0.803775</td>\n",
       "      <td>42.769815</td>\n",
       "      <td>97.239460</td>\n",
       "      <td>115.102867</td>\n",
       "      <td>19.023609</td>\n",
       "      <td>0</td>\n",
       "    </tr>\n",
       "    <tr>\n",
       "      <th>1</th>\n",
       "      <td>68</td>\n",
       "      <td>0.979804</td>\n",
       "      <td>0.836557</td>\n",
       "      <td>63.621205</td>\n",
       "      <td>104.295904</td>\n",
       "      <td>104.446747</td>\n",
       "      <td>29.446747</td>\n",
       "      <td>0</td>\n",
       "    </tr>\n",
       "    <tr>\n",
       "      <th>2</th>\n",
       "      <td>51</td>\n",
       "      <td>0.760961</td>\n",
       "      <td>0.823015</td>\n",
       "      <td>59.701164</td>\n",
       "      <td>99.514131</td>\n",
       "      <td>103.025769</td>\n",
       "      <td>32.987531</td>\n",
       "      <td>0</td>\n",
       "    </tr>\n",
       "    <tr>\n",
       "      <th>3</th>\n",
       "      <td>31</td>\n",
       "      <td>0.957265</td>\n",
       "      <td>0.767948</td>\n",
       "      <td>50.077372</td>\n",
       "      <td>116.466180</td>\n",
       "      <td>137.658394</td>\n",
       "      <td>22.445255</td>\n",
       "      <td>0</td>\n",
       "    </tr>\n",
       "    <tr>\n",
       "      <th>4</th>\n",
       "      <td>50</td>\n",
       "      <td>0.828162</td>\n",
       "      <td>0.845766</td>\n",
       "      <td>60.658955</td>\n",
       "      <td>104.919383</td>\n",
       "      <td>113.961094</td>\n",
       "      <td>34.713985</td>\n",
       "      <td>0</td>\n",
       "    </tr>\n",
       "  </tbody>\n",
       "</table>\n",
       "</div>"
      ],
      "text/plain": [
       "   contour number  aspect ratio    extent       Blue       Green         Red  \\\n",
       "0              28      0.923077  0.803775  42.769815   97.239460  115.102867   \n",
       "1              68      0.979804  0.836557  63.621205  104.295904  104.446747   \n",
       "2              51      0.760961  0.823015  59.701164   99.514131  103.025769   \n",
       "3              31      0.957265  0.767948  50.077372  116.466180  137.658394   \n",
       "4              50      0.828162  0.845766  60.658955  104.919383  113.961094   \n",
       "\n",
       "         Hue  class  \n",
       "0  19.023609      0  \n",
       "1  29.446747      0  \n",
       "2  32.987531      0  \n",
       "3  22.445255      0  \n",
       "4  34.713985      0  "
      ]
     },
     "execution_count": 5,
     "metadata": {},
     "output_type": "execute_result"
    }
   ],
   "source": [
    "data.head()"
   ]
  },
  {
   "cell_type": "code",
   "execution_count": 6,
   "metadata": {},
   "outputs": [
    {
     "ename": "ValueError",
     "evalue": "cannot reshape array of size 7 into shape (28,28)",
     "output_type": "error",
     "traceback": [
      "\u001b[0;31m---------------------------------------------------------------------------\u001b[0m",
      "\u001b[0;31mValueError\u001b[0m                                Traceback (most recent call last)",
      "Cell \u001b[0;32mIn[6], line 2\u001b[0m\n\u001b[1;32m      1\u001b[0m \u001b[38;5;66;03m#reshaping into 28X28 array\u001b[39;00m\n\u001b[0;32m----> 2\u001b[0m \u001b[43mdata\u001b[49m\u001b[38;5;241;43m.\u001b[39;49m\u001b[43miloc\u001b[49m\u001b[43m[\u001b[49m\u001b[38;5;241;43m3\u001b[39;49m\u001b[43m,\u001b[49m\u001b[38;5;241;43m1\u001b[39;49m\u001b[43m:\u001b[49m\u001b[43m]\u001b[49m\u001b[38;5;241;43m.\u001b[39;49m\u001b[43mvalues\u001b[49m\u001b[38;5;241;43m.\u001b[39;49m\u001b[43mreshape\u001b[49m\u001b[43m(\u001b[49m\u001b[38;5;241;43m28\u001b[39;49m\u001b[43m,\u001b[49m\u001b[38;5;241;43m28\u001b[39;49m\u001b[43m)\u001b[49m\u001b[38;5;241m.\u001b[39mastype(\u001b[38;5;124m'\u001b[39m\u001b[38;5;124muint8\u001b[39m\u001b[38;5;124m'\u001b[39m)\n",
      "\u001b[0;31mValueError\u001b[0m: cannot reshape array of size 7 into shape (28,28)"
     ]
    }
   ],
   "source": [
    "#reshaping into 28X28 array\n",
    "data.iloc[3,1:].values.reshape(28,28).astype('uint8')"
   ]
  },
  {
   "cell_type": "code",
   "execution_count": null,
   "metadata": {
    "collapsed": true
   },
   "outputs": [],
   "source": [
    "#preprocessing data "
   ]
  },
  {
   "cell_type": "code",
   "execution_count": null,
   "metadata": {
    "collapsed": true
   },
   "outputs": [],
   "source": [
    "#Storing Pixel array in form length width and channel in df_x\n",
    "df_x = data.iloc[:,1:].values.reshape(len(data),28,28,1)\n",
    "\n",
    "#Storing the labels in y\n",
    "y = data.iloc[:,0].values"
   ]
  },
  {
   "cell_type": "code",
   "execution_count": null,
   "metadata": {},
   "outputs": [],
   "source": [
    "#Converting labels to categorical features\n",
    "\n",
    "df_y = keras.utils.to_categorical(y,num_classes=10)"
   ]
  },
  {
   "cell_type": "code",
   "execution_count": null,
   "metadata": {
    "collapsed": true
   },
   "outputs": [],
   "source": [
    "df_x = np.array(df_x)\n",
    "df_y = np.array(df_y)"
   ]
  },
  {
   "cell_type": "code",
   "execution_count": null,
   "metadata": {},
   "outputs": [
    {
     "data": {
      "text/plain": [
       "array([1, 0, 1, ..., 7, 6, 9], dtype=int64)"
      ]
     },
     "execution_count": 14,
     "metadata": {},
     "output_type": "execute_result"
    }
   ],
   "source": [
    "#lables\n",
    "y"
   ]
  },
  {
   "cell_type": "code",
   "execution_count": null,
   "metadata": {},
   "outputs": [
    {
     "data": {
      "text/plain": [
       "array([[ 0.,  1.,  0., ...,  0.,  0.,  0.],\n",
       "       [ 1.,  0.,  0., ...,  0.,  0.,  0.],\n",
       "       [ 0.,  1.,  0., ...,  0.,  0.,  0.],\n",
       "       ..., \n",
       "       [ 0.,  0.,  0., ...,  1.,  0.,  0.],\n",
       "       [ 0.,  0.,  0., ...,  0.,  0.,  0.],\n",
       "       [ 0.,  0.,  0., ...,  0.,  0.,  1.]])"
      ]
     },
     "execution_count": 15,
     "metadata": {},
     "output_type": "execute_result"
    }
   ],
   "source": [
    "#categorical labels\n",
    "df_y"
   ]
  },
  {
   "cell_type": "code",
   "execution_count": null,
   "metadata": {},
   "outputs": [
    {
     "data": {
      "text/plain": [
       "(42000, 28, 28, 1)"
      ]
     },
     "execution_count": 16,
     "metadata": {},
     "output_type": "execute_result"
    }
   ],
   "source": [
    "df_x.shape"
   ]
  },
  {
   "cell_type": "code",
   "execution_count": null,
   "metadata": {
    "collapsed": true
   },
   "outputs": [],
   "source": [
    "#test train split\n",
    "\n",
    "x_train, x_test, y_train, y_test = train_test_split(df_x,df_y,test_size=0.2,random_state=4)"
   ]
  },
  {
   "cell_type": "code",
   "execution_count": null,
   "metadata": {},
   "outputs": [],
   "source": [
    "#CNN model\n",
    "model = Sequential()\n",
    "model.add(Convolution2D(32,3,data_format='channels_last',activation='relu',input_shape=(28,28,1)))\n",
    "model.add(MaxPooling2D(pool_size=(2,2)))\n",
    "model.add(Flatten())\n",
    "model.add(Dense(100))\n",
    "model.add(Dropout(0.5))\n",
    "model.add(Dense(10))\n",
    "model.add(Activation('softmax'))\n",
    "model.compile(loss='categorical_crossentropy', optimizer = 'adadelta', metrics = ['accuracy'])"
   ]
  },
  {
   "cell_type": "code",
   "execution_count": null,
   "metadata": {},
   "outputs": [
    {
     "name": "stdout",
     "output_type": "stream",
     "text": [
      "_________________________________________________________________\n",
      "Layer (type)                 Output Shape              Param #   \n",
      "=================================================================\n",
      "conv2d_3 (Conv2D)            (None, 26, 26, 32)        320       \n",
      "_________________________________________________________________\n",
      "max_pooling2d_2 (MaxPooling2 (None, 13, 13, 32)        0         \n",
      "_________________________________________________________________\n",
      "flatten_2 (Flatten)          (None, 5408)              0         \n",
      "_________________________________________________________________\n",
      "dense_3 (Dense)              (None, 100)               540900    \n",
      "_________________________________________________________________\n",
      "dropout_2 (Dropout)          (None, 100)               0         \n",
      "_________________________________________________________________\n",
      "dense_4 (Dense)              (None, 10)                1010      \n",
      "_________________________________________________________________\n",
      "activation_1 (Activation)    (None, 10)                0         \n",
      "=================================================================\n",
      "Total params: 542,230\n",
      "Trainable params: 542,230\n",
      "Non-trainable params: 0\n",
      "_________________________________________________________________\n"
     ]
    }
   ],
   "source": [
    "model.summary()"
   ]
  },
  {
   "cell_type": "code",
   "execution_count": null,
   "metadata": {},
   "outputs": [
    {
     "name": "stdout",
     "output_type": "stream",
     "text": [
      "Train on 33600 samples, validate on 8400 samples\n",
      "Epoch 1/10\n",
      "33600/33600 [==============================] - 96s - loss: 7.7860 - acc: 0.5063 - val_loss: 4.4646 - val_acc: 0.7145\n",
      "Epoch 2/10\n",
      "33600/33600 [==============================] - 107s - loss: 3.8784 - acc: 0.7476 - val_loss: 1.6786 - val_acc: 0.8844\n",
      "Epoch 3/10\n",
      "33600/33600 [==============================] - 117s - loss: 1.7091 - acc: 0.8812 - val_loss: 1.0423 - val_acc: 0.9254\n",
      "Epoch 4/10\n",
      "33600/33600 [==============================] - 115s - loss: 1.0479 - acc: 0.9222 - val_loss: 0.7083 - val_acc: 0.9489\n",
      "Epoch 5/10\n",
      "33600/33600 [==============================] - 112s - loss: 0.7755 - acc: 0.9407 - val_loss: 0.5226 - val_acc: 0.9574\n",
      "Epoch 6/10\n",
      "33600/33600 [==============================] - 114s - loss: 0.6248 - acc: 0.9500 - val_loss: 0.4497 - val_acc: 0.9637\n",
      "Epoch 7/10\n",
      "33600/33600 [==============================] - 113s - loss: 0.5083 - acc: 0.9570 - val_loss: 0.3780 - val_acc: 0.9665\n",
      "Epoch 8/10\n",
      "33600/33600 [==============================] - 117s - loss: 0.4292 - acc: 0.9608 - val_loss: 0.3467 - val_acc: 0.9705\n",
      "Epoch 9/10\n",
      "33600/33600 [==============================] - 117s - loss: 0.3536 - acc: 0.9657 - val_loss: 0.3007 - val_acc: 0.9711\n",
      "Epoch 10/10\n",
      "33600/33600 [==============================] - 118s - loss: 0.3104 - acc: 0.9695 - val_loss: 0.2707 - val_acc: 0.9726\n"
     ]
    },
    {
     "data": {
      "text/plain": [
       "<keras.callbacks.History at 0x24c904ba860>"
      ]
     },
     "execution_count": 29,
     "metadata": {},
     "output_type": "execute_result"
    }
   ],
   "source": [
    "#fitting it with just 100 images for testing \n",
    "\n",
    "model.fit(x_train,y_train,validation_data=(x_test,y_test))"
   ]
  },
  {
   "cell_type": "code",
   "execution_count": null,
   "metadata": {},
   "outputs": [
    {
     "name": "stdout",
     "output_type": "stream",
     "text": [
      "8384/8400 [============================>.] - ETA: 0s"
     ]
    },
    {
     "data": {
      "text/plain": [
       "[0.27073475346692977, 0.97261904761904761]"
      ]
     },
     "execution_count": 30,
     "metadata": {},
     "output_type": "execute_result"
    }
   ],
   "source": [
    "model.evaluate(x_test,y_test)"
   ]
  },
  {
   "cell_type": "code",
   "execution_count": null,
   "metadata": {
    "collapsed": true
   },
   "outputs": [],
   "source": [
    "#imporove accuracy by more epocs till the loss is almost same"
   ]
  }
 ],
 "metadata": {
  "kernelspec": {
   "display_name": "Python 3",
   "language": "python",
   "name": "python3"
  },
  "language_info": {
   "codemirror_mode": {
    "name": "ipython",
    "version": 3
   },
   "file_extension": ".py",
   "mimetype": "text/x-python",
   "name": "python",
   "nbconvert_exporter": "python",
   "pygments_lexer": "ipython3",
   "version": "3.6.3"
  }
 },
 "nbformat": 4,
 "nbformat_minor": 2
}
