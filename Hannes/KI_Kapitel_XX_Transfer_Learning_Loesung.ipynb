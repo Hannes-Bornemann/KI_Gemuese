{
 "cells": [
  {
   "cell_type": "markdown",
   "metadata": {},
   "source": [
    "<img src=\"../images/HKA_MMT_Logo.png\" width=\"350\">\n",
    "\n",
    "# <font color='2869AF'> Künstliche Intelligenz </font>\n",
    "\n",
    "### <font color='2869AF'> Transfer Learning </font>\n",
    "\n",
    "### Frau Prof.Dr.-Ing. habil. Catherina Burghart\n",
    "\n",
    "## <font color='2869AF'> Inhalt </font>\n",
    "\n",
    "In diesem Notebook wird Transfer Learning erläutert und gezeigt, wie es angewandt werden kann, um den Datensatz 'Cats and Dogs' zu klassifizieren.\n"
   ]
  },
  {
   "cell_type": "markdown",
   "metadata": {},
   "source": [
    "### <font color='2869AF'> Warum Transfer Learning? </font>\n",
    "\n",
    "In vorherigen Kapitel wurden gezeigt, dass überwachte Lernverfahren wie   CNN's  gut funktionieren, um Bilder zu klassifizieren. Das Trainieren der Netze geht auch mit einfachen Rechnern ohne große Rechenleistung noch in einer akzeptablen Zeit. \n",
    "Wenn aber ein Datensatz vorliegt, welcher eine höhere Anzahl an Klassen aufweist (100, 1000), würde eine deutlich höhere Rechenleistung benötigt werden und vor allem auch deutlich mehr Trainingsdaten. \n",
    "Hier kommt das Transfer Learning zur Anwendung.  Beim Transfer Learning werden Netze verwendet, welche schon vortrainierte wurden und bereits die gewünschten Klassen enthalten. Der Datensatz, welcher zum trainierender Netze verwendet wurde, ist der ImageNet Datensatz aus dem Jahre 2010, mit 150 000 Bildern und 1000 verschieden Klassen. Unter Verwendung dieser trainierten Netze kann der benötigte Rechenaufwand als auch die Menge der benötigten Trainingsdaten deutlich verringert werden.\n"
   ]
  },
  {
   "cell_type": "markdown",
   "metadata": {},
   "source": [
    "### <font color='2869AF'> Importieren des Datensatzes </font>\n",
    "\n",
    "Der Datensatz kann von der Website kaggle unter folgendem Link heruntergeladen werden: https://www.kaggle.com/datasets/chetankv/dogs-cats-images\n"
   ]
  },
  {
   "cell_type": "code",
   "execution_count": 8,
   "metadata": {},
   "outputs": [],
   "source": [
    "import os \n",
    "import matplotlib.pyplot as plt \n",
    "\n",
    "\n",
    "# setzen des Basis Verzeichnisses \n",
    "basedir = r'photos_transfer_learning'\n",
    "\n",
    "IMAGE_WIDTH=125\n",
    "IMAGE_HEIGHT=125\n",
    "IMAGE_CHANNELS=3\n",
    "\n",
    "\n",
    "# anlegen eines dictionary für die Verzeichnisse\n",
    "dir_dict = {\n",
    "    'train': os.path.join(basedir,'training_set'),\n",
    "    'test': os.path.join(basedir,'test_set'),\n",
    "    'train_onion': os.path.join(basedir,'training_set','onion'),\n",
    "    'train_carrot': os.path.join(basedir,'training_set','carrot'),\n",
    "    'train_potato': os.path.join(basedir,'training_set','potato'),\n",
    "    'test_onion': os.path.join(basedir,'test_set','onion'),\n",
    "    'test_carrot': os.path.join(basedir,'test_set','carrot'),\n",
    "    'test_potato': os.path.join(basedir,'test_set','potato')\n",
    "    }\n"
   ]
  },
  {
   "cell_type": "markdown",
   "metadata": {},
   "source": [
    "Überprüfen, ob für jede Klasse 1000 Testbilder und 4000 Trainingsbilder vorliegen.\n"
   ]
  },
  {
   "cell_type": "code",
   "execution_count": 9,
   "metadata": {},
   "outputs": [
    {
     "name": "stdout",
     "output_type": "stream",
     "text": [
      "Anzahl der Zwiebelbilder (Training): 976\n",
      "Anzahl der Karottenbilder (Training): 681\n",
      "Anzahl der Kartoffelbilder (Training): 1351\n",
      "Anzahl der Zwiebelbilder (Test): 100\n",
      "Anzahl der Karottenbilder (Test): 100\n",
      "Anzahl der Kartoffelbilder (Test): 100\n"
     ]
    }
   ],
   "source": [
    "print ('Anzahl der Zwiebelbilder (Training):',len(os.listdir(dir_dict['train_onion'])))\n",
    "print ('Anzahl der Karottenbilder (Training):',len(os.listdir(dir_dict['train_carrot'])))\n",
    "print ('Anzahl der Kartoffelbilder (Training):',len(os.listdir(dir_dict['train_potato'])))\n",
    "\n",
    "print ('Anzahl der Zwiebelbilder (Test):',len(os.listdir(dir_dict['test_onion'])))\n",
    "print ('Anzahl der Karottenbilder (Test):',len(os.listdir(dir_dict['test_carrot'])))\n",
    "print ('Anzahl der Kartoffelbilder (Test):',len(os.listdir(dir_dict['test_potato'])))\n"
   ]
  },
  {
   "cell_type": "markdown",
   "metadata": {},
   "source": [
    "### <font color='2869AF'> Trainiertes Netz einbinden </font>\n",
    "\n",
    "Als trainiertes Netz verwenden, wir das Inception V3 welches mit dem ImageNet Datensatz trainiert wurde. Beim Laden des Netzes geben wir mit **weights='imagenet'** an, dass die trainierten Gewichte auf Basis des ImageNet Datensatzes mit geladen werden sollen. \n",
    "Mit **'include_top=False'** wird angegeben, dass nur den Kodierungsblock geladen und der Prädikationsblock ausgelassen wird. Der Prädikationsblock wird für den Anwendungsfall selbst definiert\n"
   ]
  },
  {
   "cell_type": "code",
   "execution_count": 10,
   "metadata": {},
   "outputs": [],
   "source": [
    "from tensorflow.keras import layers\n",
    "from tensorflow.keras import models \n",
    "from tensorflow.keras.applications.inception_v3 import InceptionV3\n",
    "from tensorflow.keras.applications.inception_v3 import preprocess_input, decode_predictions\n",
    "from tensorflow.keras.preprocessing import image\n",
    "from tensorflow.keras import optimizers"
   ]
  },
  {
   "cell_type": "code",
   "execution_count": 15,
   "metadata": {},
   "outputs": [
    {
     "name": "stdout",
     "output_type": "stream",
     "text": [
      "Model: \"sequential_2\"\n",
      "_________________________________________________________________\n",
      " Layer (type)                Output Shape              Param #   \n",
      "=================================================================\n",
      " inception_v3 (Functional)   (None, 2, 2, 2048)        21802784  \n",
      "                                                                 \n",
      " flatten_2 (Flatten)         (None, 8192)              0         \n",
      "                                                                 \n",
      " dense_6 (Dense)             (None, 256)               2097408   \n",
      "                                                                 \n",
      " dense_7 (Dense)             (None, 512)               131584    \n",
      "                                                                 \n",
      " dense_8 (Dense)             (None, 1)                 513       \n",
      "                                                                 \n",
      "=================================================================\n",
      "Total params: 24032289 (91.68 MB)\n",
      "Trainable params: 2229505 (8.50 MB)\n",
      "Non-trainable params: 21802784 (83.17 MB)\n",
      "_________________________________________________________________\n"
     ]
    }
   ],
   "source": [
    "model = models.Sequential()\n",
    "# definieren des Basis Models \n",
    "base_model = InceptionV3(weights='imagenet',include_top=False, input_shape=(IMAGE_WIDTH,IMAGE_HEIGHT,IMAGE_CHANNELS))\n",
    "\n",
    "# hinzufügen des InceptionV3 Netzes zum Modell \n",
    "model.add(base_model)\n",
    "\n",
    "# definieren des Prädikationsblock \n",
    "model.add(layers.Flatten())\n",
    "model.add(layers.Dense(256, activation='relu'))\n",
    "model.add(layers.Dense(512, activation='relu'))\n",
    "model.add(layers.Dense(1, activation='sigmoid'))\n",
    "\n",
    "# deaktivieren des Training des Basis Modells \n",
    "base_model.trainable = False \n",
    "model.summary()"
   ]
  },
  {
   "cell_type": "markdown",
   "metadata": {},
   "source": [
    "Bei der Zusammenfassung des Netzes fällt auf, dass nur rund Eindrittel aller Parameter trainierbar sind, was daran liegt, dass das Trainieren der Gewichte des Basismodells deaktiviert wurde. Jetzt müssen noch die Verlustfunktion des Optimierungsverfahrens und die Metriken definiert werden, bevor das Netz trainiert werden kann.\n"
   ]
  },
  {
   "cell_type": "code",
   "execution_count": 16,
   "metadata": {},
   "outputs": [],
   "source": [
    "model.compile(loss='binary_crossentropy',optimizer=optimizers.RMSprop(1e-4),metrics=['acc'])"
   ]
  },
  {
   "cell_type": "markdown",
   "metadata": {},
   "source": [
    "### <font color='2869AF'> Vorbereiten der Daten </font>\n",
    "\n",
    "Um die Daten vorzubereiten, verwenden wir den **ImageDataGenerator()** von **tensorflow.keras**. \n",
    "Um den Datensatz zu vergrößern, verwenden wir Data Augmentation (Drehen, Rotieren). Wichtig ist, dass die Pixelwerte auf den Bereich [0,1] normiert werden und dass die Bildgröße auf die Eingangschicht des Netzes [200,200,3] angepasst wird.\n"
   ]
  },
  {
   "cell_type": "code",
   "execution_count": 17,
   "metadata": {},
   "outputs": [
    {
     "name": "stdout",
     "output_type": "stream",
     "text": [
      "Found 3008 images belonging to 3 classes.\n",
      "Found 300 images belonging to 3 classes.\n"
     ]
    }
   ],
   "source": [
    "from tensorflow.keras.preprocessing.image import ImageDataGenerator\n",
    "\n",
    "\n",
    "# rescalen und Data Augmentation für Trainingsdaten \n",
    "train_datagen = ImageDataGenerator(\n",
    "    rescale=1./255,\n",
    "    rotation_range=40,\n",
    "    width_shift_range=0.2,\n",
    "    height_shift_range = 0.2, \n",
    "    shear_range = 0.2,\n",
    "    zoom_range = 0.2,\n",
    "    horizontal_flip = True\n",
    "    )\n",
    "# rescalen der Testdaten \n",
    "test_datagen = ImageDataGenerator(\n",
    "    rescale = 1./255\n",
    "    )\n",
    "\n",
    "# laden der Bilder über den ImageDataGenerator \n",
    "train_generator = train_datagen.flow_from_directory(\n",
    "    dir_dict['train'],\n",
    "    target_size=(IMAGE_WIDTH,IMAGE_HEIGHT),\n",
    "    batch_size  = 20,\n",
    "    class_mode = 'binary' \n",
    ")\n",
    "\n",
    "test_generator = test_datagen.flow_from_directory(\n",
    "    dir_dict['test'],\n",
    "    target_size=(IMAGE_WIDTH,IMAGE_HEIGHT),\n",
    "    batch_size  = 20,\n",
    "    class_mode = 'binary' \n",
    ")"
   ]
  },
  {
   "cell_type": "markdown",
   "metadata": {},
   "source": [
    "### <font color='2869AF'> Trainieren des Netzes </font>\n"
   ]
  },
  {
   "cell_type": "code",
   "execution_count": 19,
   "metadata": {},
   "outputs": [
    {
     "name": "stdout",
     "output_type": "stream",
     "text": [
      "Epoch 1/5\n",
      "100/100 [==============================] - 22s 220ms/step - loss: -2390.7163 - acc: 0.3737\n",
      "Epoch 2/5\n",
      "100/100 [==============================] - 21s 212ms/step - loss: -5444.8486 - acc: 0.3888\n",
      "Epoch 3/5\n",
      "100/100 [==============================] - 23s 233ms/step - loss: -10446.6191 - acc: 0.3750\n",
      "Epoch 4/5\n",
      "100/100 [==============================] - 24s 241ms/step - loss: -17804.2012 - acc: 0.3763\n",
      "Epoch 5/5\n",
      "100/100 [==============================] - 27s 274ms/step - loss: -27484.1406 - acc: 0.3682\n"
     ]
    }
   ],
   "source": [
    "history = model.fit(train_generator,\n",
    "steps_per_epoch=100,\n",
    "epochs = 5, #40\n",
    "validation_data = test_generator,\n",
    "validation_steps=50)\n"
   ]
  },
  {
   "cell_type": "code",
   "execution_count": 20,
   "metadata": {},
   "outputs": [],
   "source": [
    "# Das Modell kann zum Vergleichen von unterschiedlichen Parametern des Prädikationsblocks abgespeichert werden\n",
    "\n",
    "# model.save('cats_dogs_1.h5')\n"
   ]
  },
  {
   "cell_type": "markdown",
   "metadata": {},
   "source": [
    "### <font color='2869AF'> Auswerten des Netzes </font>\n",
    "\n",
    "Um die Qualität des Netzes beurteilen zu können, können die verschiedenen Metriken ausgegeben werden.\n"
   ]
  },
  {
   "cell_type": "code",
   "execution_count": 22,
   "metadata": {},
   "outputs": [],
   "source": [
    "import matplotlib.pyplot as plt \n",
    "\n",
    "acc = history.history['acc']\n",
    "# val_acc = history.history['val_acc']\n",
    "loss = history.history['loss']\n",
    "# val_loss = history.history['val_loss']\n",
    "\n",
    "epochs = range(len(acc))"
   ]
  },
  {
   "cell_type": "code",
   "execution_count": 23,
   "metadata": {},
   "outputs": [
    {
     "data": {
      "text/plain": [
       "<Figure size 640x480 with 0 Axes>"
      ]
     },
     "execution_count": 23,
     "metadata": {},
     "output_type": "execute_result"
    },
    {
     "data": {
      "image/png": "[encoded data removed]",
      "text/plain": [
       "<Figure size 640x480 with 1 Axes>"
      ]
     },
     "metadata": {},
     "output_type": "display_data"
    },
    {
     "data": {
      "text/plain": [
       "<Figure size 640x480 with 0 Axes>"
      ]
     },
     "metadata": {},
     "output_type": "display_data"
    }
   ],
   "source": [
    "plt.plot(epochs,acc,'bo',label='Trainingsgenauigkeit')\n",
    "# plt.plot(epochs,val_acc,'b',label='Validierungsgenauigkeit')\n",
    "# plt.title('Trainings und  Validierungsgenauigkeit')\n",
    "plt.legend()\n",
    "\n",
    "plt.figure()"
   ]
  },
  {
   "cell_type": "code",
   "execution_count": 24,
   "metadata": {},
   "outputs": [
    {
     "data": {
      "text/plain": [
       "<Figure size 640x480 with 0 Axes>"
      ]
     },
     "execution_count": 24,
     "metadata": {},
     "output_type": "execute_result"
    },
    {
     "data": {
      "image/png": "[encoded data removed]",
      "text/plain": [
       "<Figure size 640x480 with 1 Axes>"
      ]
     },
     "metadata": {},
     "output_type": "display_data"
    },
    {
     "data": {
      "text/plain": [
       "<Figure size 640x480 with 0 Axes>"
      ]
     },
     "metadata": {},
     "output_type": "display_data"
    }
   ],
   "source": [
    "plt.plot(epochs,loss,'bo',label='Trainings-Loss')\n",
    "# plt.plot(epochs,val_loss,'b',label='Validierungs-Loss')\n",
    "plt.title('Trainings und  Validierungs-Loss')\n",
    "plt.legend()\n",
    "\n",
    "plt.figure()"
   ]
  },
  {
   "cell_type": "markdown",
   "metadata": {},
   "source": [
    "Durch das vortrainierte Netz erhalten wir schon zu Beginn eine große Validierungsgenauigkeit von 96 %. Wohingegen die Trainingsgenauigkeit langsam ansteigt.Bei Verlauf des Verlustes verhält es sich ähnlich wie beim Verlauf der Genauigkeit.\n"
   ]
  }
 ],
 "metadata": {
  "kernelspec": {
   "display_name": "Python 3.10.4 ('env': venv)",
   "language": "python",
   "name": "python3"
  },
  "language_info": {
   "codemirror_mode": {
    "name": "ipython",
    "version": 3
   },
   "file_extension": ".py",
   "mimetype": "text/x-python",
   "name": "python",
   "nbconvert_exporter": "python",
   "pygments_lexer": "ipython3",
   "version": "3.11.5"
  },
  "orig_nbformat": 4,
  "vscode": {
   "interpreter": {
    "hash": "3d580cc932caa59f6d64cbc09e4ecd47933d1d2aa96199041cf694e848b778d3"
   }
  }
 },
 "nbformat": 4,
 "nbformat_minor": 2
}
