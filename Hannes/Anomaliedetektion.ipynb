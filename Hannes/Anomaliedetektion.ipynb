{
 "cells": [
  {
   "cell_type": "markdown",
   "metadata": {},
   "source": [
    "## Anomaliedetektion mit Iris_extended"
   ]
  },
  {
   "cell_type": "code",
   "execution_count": 25,
   "metadata": {},
   "outputs": [],
   "source": [
    "import pandas as pd\n",
    "import numpy as np\n",
    "import matplotlib.pyplot as plt\n",
    "import sklearn"
   ]
  },
  {
   "cell_type": "code",
   "execution_count": 26,
   "metadata": {},
   "outputs": [
    {
     "data": {
      "text/html": [
       "<div>\n",
       "<style scoped>\n",
       "    .dataframe tbody tr th:only-of-type {\n",
       "        vertical-align: middle;\n",
       "    }\n",
       "\n",
       "    .dataframe tbody tr th {\n",
       "        vertical-align: top;\n",
       "    }\n",
       "\n",
       "    .dataframe thead th {\n",
       "        text-align: right;\n",
       "    }\n",
       "</style>\n",
       "<table border=\"1\" class=\"dataframe\">\n",
       "  <thead>\n",
       "    <tr style=\"text-align: right;\">\n",
       "      <th></th>\n",
       "      <th>contour number</th>\n",
       "      <th>aspect ratio</th>\n",
       "      <th>extent</th>\n",
       "      <th>Blue</th>\n",
       "      <th>Green</th>\n",
       "      <th>Red</th>\n",
       "      <th>Hue</th>\n",
       "      <th>class</th>\n",
       "    </tr>\n",
       "  </thead>\n",
       "  <tbody>\n",
       "    <tr>\n",
       "      <th>0</th>\n",
       "      <td>27</td>\n",
       "      <td>0.465992</td>\n",
       "      <td>0.758486</td>\n",
       "      <td>89.418293</td>\n",
       "      <td>161.890244</td>\n",
       "      <td>154.832927</td>\n",
       "      <td>33.164634</td>\n",
       "      <td>0</td>\n",
       "    </tr>\n",
       "    <tr>\n",
       "      <th>1</th>\n",
       "      <td>33</td>\n",
       "      <td>0.773585</td>\n",
       "      <td>0.751266</td>\n",
       "      <td>73.689918</td>\n",
       "      <td>73.168230</td>\n",
       "      <td>83.978312</td>\n",
       "      <td>151.097304</td>\n",
       "      <td>0</td>\n",
       "    </tr>\n",
       "    <tr>\n",
       "      <th>2</th>\n",
       "      <td>42</td>\n",
       "      <td>0.291139</td>\n",
       "      <td>0.638797</td>\n",
       "      <td>64.900421</td>\n",
       "      <td>134.379383</td>\n",
       "      <td>144.981066</td>\n",
       "      <td>15.561010</td>\n",
       "      <td>0</td>\n",
       "    </tr>\n",
       "    <tr>\n",
       "      <th>3</th>\n",
       "      <td>37</td>\n",
       "      <td>0.948718</td>\n",
       "      <td>0.816701</td>\n",
       "      <td>46.118971</td>\n",
       "      <td>116.155949</td>\n",
       "      <td>132.356913</td>\n",
       "      <td>15.137460</td>\n",
       "      <td>0</td>\n",
       "    </tr>\n",
       "    <tr>\n",
       "      <th>4</th>\n",
       "      <td>67</td>\n",
       "      <td>0.563427</td>\n",
       "      <td>0.761712</td>\n",
       "      <td>31.994382</td>\n",
       "      <td>121.905899</td>\n",
       "      <td>130.504213</td>\n",
       "      <td>16.797753</td>\n",
       "      <td>0</td>\n",
       "    </tr>\n",
       "    <tr>\n",
       "      <th>5</th>\n",
       "      <td>33</td>\n",
       "      <td>0.928571</td>\n",
       "      <td>0.804640</td>\n",
       "      <td>47.376360</td>\n",
       "      <td>110.543147</td>\n",
       "      <td>126.509790</td>\n",
       "      <td>15.772299</td>\n",
       "      <td>0</td>\n",
       "    </tr>\n",
       "    <tr>\n",
       "      <th>6</th>\n",
       "      <td>51</td>\n",
       "      <td>0.897004</td>\n",
       "      <td>0.836116</td>\n",
       "      <td>57.514481</td>\n",
       "      <td>100.655082</td>\n",
       "      <td>100.422328</td>\n",
       "      <td>17.867299</td>\n",
       "      <td>0</td>\n",
       "    </tr>\n",
       "    <tr>\n",
       "      <th>7</th>\n",
       "      <td>55</td>\n",
       "      <td>0.789260</td>\n",
       "      <td>0.841485</td>\n",
       "      <td>58.823926</td>\n",
       "      <td>99.552654</td>\n",
       "      <td>101.951559</td>\n",
       "      <td>24.025695</td>\n",
       "      <td>0</td>\n",
       "    </tr>\n",
       "    <tr>\n",
       "      <th>8</th>\n",
       "      <td>37</td>\n",
       "      <td>0.957265</td>\n",
       "      <td>0.780958</td>\n",
       "      <td>52.223445</td>\n",
       "      <td>116.700000</td>\n",
       "      <td>136.895215</td>\n",
       "      <td>19.778947</td>\n",
       "      <td>0</td>\n",
       "    </tr>\n",
       "    <tr>\n",
       "      <th>9</th>\n",
       "      <td>51</td>\n",
       "      <td>0.530459</td>\n",
       "      <td>0.718023</td>\n",
       "      <td>43.131685</td>\n",
       "      <td>89.572168</td>\n",
       "      <td>83.793560</td>\n",
       "      <td>26.049454</td>\n",
       "      <td>0</td>\n",
       "    </tr>\n",
       "  </tbody>\n",
       "</table>\n",
       "</div>"
      ],
      "text/plain": [
       "   contour number  aspect ratio    extent       Blue       Green         Red  \\\n",
       "0              27      0.465992  0.758486  89.418293  161.890244  154.832927   \n",
       "1              33      0.773585  0.751266  73.689918   73.168230   83.978312   \n",
       "2              42      0.291139  0.638797  64.900421  134.379383  144.981066   \n",
       "3              37      0.948718  0.816701  46.118971  116.155949  132.356913   \n",
       "4              67      0.563427  0.761712  31.994382  121.905899  130.504213   \n",
       "5              33      0.928571  0.804640  47.376360  110.543147  126.509790   \n",
       "6              51      0.897004  0.836116  57.514481  100.655082  100.422328   \n",
       "7              55      0.789260  0.841485  58.823926   99.552654  101.951559   \n",
       "8              37      0.957265  0.780958  52.223445  116.700000  136.895215   \n",
       "9              51      0.530459  0.718023  43.131685   89.572168   83.793560   \n",
       "\n",
       "          Hue  class  \n",
       "0   33.164634      0  \n",
       "1  151.097304      0  \n",
       "2   15.561010      0  \n",
       "3   15.137460      0  \n",
       "4   16.797753      0  \n",
       "5   15.772299      0  \n",
       "6   17.867299      0  \n",
       "7   24.025695      0  \n",
       "8   19.778947      0  \n",
       "9   26.049454      0  "
      ]
     },
     "execution_count": 26,
     "metadata": {},
     "output_type": "execute_result"
    }
   ],
   "source": [
    "col_names = ['contour number', 'aspect ratio', 'extent', 'Blue', 'Green', 'Red', 'Hue', 'class']\n",
    "data = pd.read_csv(\"output_anomalie.csv\", skiprows=1, header=None, names=col_names)\n",
    "data.head(10)"
   ]
  },
  {
   "cell_type": "markdown",
   "metadata": {},
   "source": [
    "Daten nach Merkmalsmatrix und Ergebnisvektor (Klassifikation) trennen"
   ]
  },
  {
   "cell_type": "code",
   "execution_count": 29,
   "metadata": {},
   "outputs": [],
   "source": [
    "X = data.iloc[:,:-1] #alles außer letzter Spalte\n",
    "y = data.iloc[:,-1] #nur letzte Spalte"
   ]
  },
  {
   "cell_type": "code",
   "execution_count": 31,
   "metadata": {},
   "outputs": [
    {
     "data": {
      "text/html": [
       "<div>\n",
       "<style scoped>\n",
       "    .dataframe tbody tr th:only-of-type {\n",
       "        vertical-align: middle;\n",
       "    }\n",
       "\n",
       "    .dataframe tbody tr th {\n",
       "        vertical-align: top;\n",
       "    }\n",
       "\n",
       "    .dataframe thead th {\n",
       "        text-align: right;\n",
       "    }\n",
       "</style>\n",
       "<table border=\"1\" class=\"dataframe\">\n",
       "  <thead>\n",
       "    <tr style=\"text-align: right;\">\n",
       "      <th></th>\n",
       "      <th>contour number</th>\n",
       "      <th>aspect ratio</th>\n",
       "      <th>extent</th>\n",
       "      <th>Blue</th>\n",
       "      <th>Green</th>\n",
       "      <th>Red</th>\n",
       "      <th>Hue</th>\n",
       "    </tr>\n",
       "  </thead>\n",
       "  <tbody>\n",
       "    <tr>\n",
       "      <th>0</th>\n",
       "      <td>27</td>\n",
       "      <td>0.465992</td>\n",
       "      <td>0.758486</td>\n",
       "      <td>89.418293</td>\n",
       "      <td>161.890244</td>\n",
       "      <td>154.832927</td>\n",
       "      <td>33.164634</td>\n",
       "    </tr>\n",
       "    <tr>\n",
       "      <th>1</th>\n",
       "      <td>33</td>\n",
       "      <td>0.773585</td>\n",
       "      <td>0.751266</td>\n",
       "      <td>73.689918</td>\n",
       "      <td>73.168230</td>\n",
       "      <td>83.978312</td>\n",
       "      <td>151.097304</td>\n",
       "    </tr>\n",
       "    <tr>\n",
       "      <th>2</th>\n",
       "      <td>42</td>\n",
       "      <td>0.291139</td>\n",
       "      <td>0.638797</td>\n",
       "      <td>64.900421</td>\n",
       "      <td>134.379383</td>\n",
       "      <td>144.981066</td>\n",
       "      <td>15.561010</td>\n",
       "    </tr>\n",
       "    <tr>\n",
       "      <th>3</th>\n",
       "      <td>37</td>\n",
       "      <td>0.948718</td>\n",
       "      <td>0.816701</td>\n",
       "      <td>46.118971</td>\n",
       "      <td>116.155949</td>\n",
       "      <td>132.356913</td>\n",
       "      <td>15.137460</td>\n",
       "    </tr>\n",
       "    <tr>\n",
       "      <th>4</th>\n",
       "      <td>67</td>\n",
       "      <td>0.563427</td>\n",
       "      <td>0.761712</td>\n",
       "      <td>31.994382</td>\n",
       "      <td>121.905899</td>\n",
       "      <td>130.504213</td>\n",
       "      <td>16.797753</td>\n",
       "    </tr>\n",
       "  </tbody>\n",
       "</table>\n",
       "</div>"
      ],
      "text/plain": [
       "   contour number  aspect ratio    extent       Blue       Green         Red  \\\n",
       "0              27      0.465992  0.758486  89.418293  161.890244  154.832927   \n",
       "1              33      0.773585  0.751266  73.689918   73.168230   83.978312   \n",
       "2              42      0.291139  0.638797  64.900421  134.379383  144.981066   \n",
       "3              37      0.948718  0.816701  46.118971  116.155949  132.356913   \n",
       "4              67      0.563427  0.761712  31.994382  121.905899  130.504213   \n",
       "\n",
       "          Hue  \n",
       "0   33.164634  \n",
       "1  151.097304  \n",
       "2   15.561010  \n",
       "3   15.137460  \n",
       "4   16.797753  "
      ]
     },
     "execution_count": 31,
     "metadata": {},
     "output_type": "execute_result"
    }
   ],
   "source": [
    "X.head()"
   ]
  },
  {
   "cell_type": "code",
   "execution_count": 32,
   "metadata": {},
   "outputs": [
    {
     "name": "stdout",
     "output_type": "stream",
     "text": [
      "Ergebnisspaltengroesse:  (3559,)\n"
     ]
    }
   ],
   "source": [
    "print('Ergebnisspaltengroesse: ',y.shape)"
   ]
  },
  {
   "cell_type": "markdown",
   "metadata": {},
   "source": [
    "IsolationForest"
   ]
  },
  {
   "cell_type": "code",
   "execution_count": 33,
   "metadata": {},
   "outputs": [],
   "source": [
    "from sklearn.ensemble import IsolationForest"
   ]
  },
  {
   "cell_type": "code",
   "execution_count": 34,
   "metadata": {},
   "outputs": [],
   "source": [
    "iForest_clf = IsolationForest(random_state=0).fit(X)"
   ]
  },
  {
   "cell_type": "code",
   "execution_count": 35,
   "metadata": {},
   "outputs": [
    {
     "data": {
      "text/plain": [
       "array([ 1, -1,  1, ...,  1,  1, -1])"
      ]
     },
     "execution_count": 35,
     "metadata": {},
     "output_type": "execute_result"
    }
   ],
   "source": [
    "iForest_clf.predict(X)"
   ]
  },
  {
   "cell_type": "code",
   "execution_count": 36,
   "metadata": {},
   "outputs": [
    {
     "name": "stdout",
     "output_type": "stream",
     "text": [
      "Anzahl der Ausreißer: 710\n"
     ]
    }
   ],
   "source": [
    "num_outliers = np.count_nonzero(iForest_clf.predict(X) == -1)\n",
    "\n",
    "print(\"Anzahl der Ausreißer:\", num_outliers)"
   ]
  },
  {
   "cell_type": "markdown",
   "metadata": {},
   "source": [
    "DBScan"
   ]
  },
  {
   "cell_type": "code",
   "execution_count": 44,
   "metadata": {},
   "outputs": [],
   "source": [
    "from sklearn.cluster import DBSCAN"
   ]
  },
  {
   "cell_type": "code",
   "execution_count": 45,
   "metadata": {},
   "outputs": [
    {
     "data": {
      "text/html": [
       "<style>#sk-container-id-2 {color: black;}#sk-container-id-2 pre{padding: 0;}#sk-container-id-2 div.sk-toggleable {background-color: white;}#sk-container-id-2 label.sk-toggleable__label {cursor: pointer;display: block;width: 100%;margin-bottom: 0;padding: 0.3em;box-sizing: border-box;text-align: center;}#sk-container-id-2 label.sk-toggleable__label-arrow:before {content: \"▸\";float: left;margin-right: 0.25em;color: #696969;}#sk-container-id-2 label.sk-toggleable__label-arrow:hover:before {color: black;}#sk-container-id-2 div.sk-estimator:hover label.sk-toggleable__label-arrow:before {color: black;}#sk-container-id-2 div.sk-toggleable__content {max-height: 0;max-width: 0;overflow: hidden;text-align: left;background-color: #f0f8ff;}#sk-container-id-2 div.sk-toggleable__content pre {margin: 0.2em;color: black;border-radius: 0.25em;background-color: #f0f8ff;}#sk-container-id-2 input.sk-toggleable__control:checked~div.sk-toggleable__content {max-height: 200px;max-width: 100%;overflow: auto;}#sk-container-id-2 input.sk-toggleable__control:checked~label.sk-toggleable__label-arrow:before {content: \"▾\";}#sk-container-id-2 div.sk-estimator input.sk-toggleable__control:checked~label.sk-toggleable__label {background-color: #d4ebff;}#sk-container-id-2 div.sk-label input.sk-toggleable__control:checked~label.sk-toggleable__label {background-color: #d4ebff;}#sk-container-id-2 input.sk-hidden--visually {border: 0;clip: rect(1px 1px 1px 1px);clip: rect(1px, 1px, 1px, 1px);height: 1px;margin: -1px;overflow: hidden;padding: 0;position: absolute;width: 1px;}#sk-container-id-2 div.sk-estimator {font-family: monospace;background-color: #f0f8ff;border: 1px dotted black;border-radius: 0.25em;box-sizing: border-box;margin-bottom: 0.5em;}#sk-container-id-2 div.sk-estimator:hover {background-color: #d4ebff;}#sk-container-id-2 div.sk-parallel-item::after {content: \"\";width: 100%;border-bottom: 1px solid gray;flex-grow: 1;}#sk-container-id-2 div.sk-label:hover label.sk-toggleable__label {background-color: #d4ebff;}#sk-container-id-2 div.sk-serial::before {content: \"\";position: absolute;border-left: 1px solid gray;box-sizing: border-box;top: 0;bottom: 0;left: 50%;z-index: 0;}#sk-container-id-2 div.sk-serial {display: flex;flex-direction: column;align-items: center;background-color: white;padding-right: 0.2em;padding-left: 0.2em;position: relative;}#sk-container-id-2 div.sk-item {position: relative;z-index: 1;}#sk-container-id-2 div.sk-parallel {display: flex;align-items: stretch;justify-content: center;background-color: white;position: relative;}#sk-container-id-2 div.sk-item::before, #sk-container-id-2 div.sk-parallel-item::before {content: \"\";position: absolute;border-left: 1px solid gray;box-sizing: border-box;top: 0;bottom: 0;left: 50%;z-index: -1;}#sk-container-id-2 div.sk-parallel-item {display: flex;flex-direction: column;z-index: 1;position: relative;background-color: white;}#sk-container-id-2 div.sk-parallel-item:first-child::after {align-self: flex-end;width: 50%;}#sk-container-id-2 div.sk-parallel-item:last-child::after {align-self: flex-start;width: 50%;}#sk-container-id-2 div.sk-parallel-item:only-child::after {width: 0;}#sk-container-id-2 div.sk-dashed-wrapped {border: 1px dashed gray;margin: 0 0.4em 0.5em 0.4em;box-sizing: border-box;padding-bottom: 0.4em;background-color: white;}#sk-container-id-2 div.sk-label label {font-family: monospace;font-weight: bold;display: inline-block;line-height: 1.2em;}#sk-container-id-2 div.sk-label-container {text-align: center;}#sk-container-id-2 div.sk-container {/* jupyter's `normalize.less` sets `[hidden] { display: none; }` but bootstrap.min.css set `[hidden] { display: none !important; }` so we also need the `!important` here to be able to override the default hidden behavior on the sphinx rendered scikit-learn.org. See: https://github.com/scikit-learn/scikit-learn/issues/21755 */display: inline-block !important;position: relative;}#sk-container-id-2 div.sk-text-repr-fallback {display: none;}</style><div id=\"sk-container-id-2\" class=\"sk-top-container\"><div class=\"sk-text-repr-fallback\"><pre>DBSCAN(eps=23)</pre><b>In a Jupyter environment, please rerun this cell to show the HTML representation or trust the notebook. <br />On GitHub, the HTML representation is unable to render, please try loading this page with nbviewer.org.</b></div><div class=\"sk-container\" hidden><div class=\"sk-item\"><div class=\"sk-estimator sk-toggleable\"><input class=\"sk-toggleable__control sk-hidden--visually\" id=\"sk-estimator-id-2\" type=\"checkbox\" checked><label for=\"sk-estimator-id-2\" class=\"sk-toggleable__label sk-toggleable__label-arrow\">DBSCAN</label><div class=\"sk-toggleable__content\"><pre>DBSCAN(eps=23)</pre></div></div></div></div></div>"
      ],
      "text/plain": [
       "DBSCAN(eps=23)"
      ]
     },
     "execution_count": 45,
     "metadata": {},
     "output_type": "execute_result"
    }
   ],
   "source": [
    "X_data = data[['contour number', 'aspect ratio', 'extent', 'Blue', 'Green', 'Red', 'Hue']]\n",
    "\n",
    "# Anwende DBSCAN auf deinen Datensatz\n",
    "dbscan = DBSCAN(eps=23, min_samples=5)\n",
    "dbscan.fit(X_data)"
   ]
  },
  {
   "cell_type": "code",
   "execution_count": 46,
   "metadata": {},
   "outputs": [
    {
     "data": {
      "text/plain": [
       "array([0, 1, 0, ..., 0, 0, 5])"
      ]
     },
     "execution_count": 46,
     "metadata": {},
     "output_type": "execute_result"
    }
   ],
   "source": [
    "dbscan.labels_"
   ]
  },
  {
   "cell_type": "code",
   "execution_count": 47,
   "metadata": {},
   "outputs": [
    {
     "name": "stdout",
     "output_type": "stream",
     "text": [
      "Anzahl der Ausreißer: 244\n"
     ]
    }
   ],
   "source": [
    "# Zählen der -1 Werte (Anomalien)\n",
    "num_outliers = np.count_nonzero(dbscan.labels_ == -1)\n",
    "\n",
    "print(\"Anzahl der Ausreißer:\", num_outliers)\n",
    "\n",
    "#es gibt 248 Anomaliebilder"
   ]
  }
 ],
 "metadata": {
  "kernelspec": {
   "display_name": "Python 3 (ipykernel)",
   "language": "python",
   "name": "python3"
  },
  "language_info": {
   "codemirror_mode": {
    "name": "ipython",
    "version": 3
   },
   "file_extension": ".py",
   "mimetype": "text/x-python",
   "name": "python",
   "nbconvert_exporter": "python",
   "pygments_lexer": "ipython3",
   "version": "3.10.12"
  }
 },
 "nbformat": 4,
 "nbformat_minor": 4
}
