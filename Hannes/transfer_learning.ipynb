{
 "cells": [
  {
   "cell_type": "markdown",
   "metadata": {},
   "source": [
    "### Transfer Learning\n",
    "\n",
    "Autoren: Hannes Bornemann, Michelle Winkle\n",
    "\n",
    "In diesem Notebook wird gezeigt, wie Transfer Learning genutzt werden kann um Gemüse zu klassifizieren.\n"
   ]
  },
  {
   "cell_type": "code",
   "execution_count": 2,
   "metadata": {},
   "outputs": [],
   "source": [
    "import os \n",
    "import matplotlib.pyplot as plt \n",
    "from sklearn.model_selection import train_test_split\n",
    "import pandas as pd \n",
    "\n",
    "# setzen der Bildgröße für InceptionV3\n",
    "IMAGE_WIDTH=224\n",
    "IMAGE_HEIGHT=224\n",
    "IMAGE_CHANNELS=3\n",
    "\n",
    "# setzen der Bildanzahl, nach der das Modell die Gewichte anpasst\n",
    "batch_size = 20"
   ]
  },
  {
   "cell_type": "code",
   "execution_count": 3,
   "metadata": {},
   "outputs": [
    {
     "name": "stdout",
     "output_type": "stream",
     "text": [
      "Anzahl der Bilder (Train): 2646\n",
      "Anzahl der Bilder (Validate): 662\n"
     ]
    }
   ],
   "source": [
    "# Pfade zu den Ordnern\n",
    "folder_potato = 'photos_reduced/Kartoffel_reduced'\n",
    "folder_onion = 'photos_reduced/Zwiebel_reduced'\n",
    "folder_carrot = 'photos_reduced/Karotte_reduced'\n",
    "\n",
    "# Initialisierung der Listen\n",
    "categories = []\n",
    "filenames = []\n",
    "\n",
    "# Durchlaufen des Kartoffel-Ordners\n",
    "for filename in os.listdir(folder_potato):\n",
    "    categories.append(0)  # Kartoffel-Kategorie\n",
    "    filenames.append(os.path.join(folder_potato, filename))\n",
    "\n",
    "# Durchlaufen des Zwiebel-Ordners\n",
    "for filename in os.listdir(folder_onion):\n",
    "    categories.append(1)  # Zwiebel-Kategorie\n",
    "    filenames.append(os.path.join(folder_onion, filename))\n",
    "\n",
    "# Durchlaufen des Karotte-Ordners\n",
    "for filename in os.listdir(folder_carrot):\n",
    "    categories.append(2)  # Karotte-Kategorie\n",
    "    filenames.append(os.path.join(folder_carrot, filename))\n",
    "\n",
    "# Erstellung des DataFrames\n",
    "df = pd.DataFrame({\n",
    "    'filename': filenames,\n",
    "    'category': categories\n",
    "})\n",
    "\n",
    "# Ersetzen der Integer Werte für die Klasse durch strings \n",
    "df[\"category\"] = df[\"category\"].replace({0: 'potato', 1: 'onion', 2: 'carrot'}) \n",
    "\n",
    "# Teilen der Daten in Traingsdaten und Validierungsdaten\n",
    "train_df, validate_df = train_test_split(df, test_size=0.20, random_state=42)\n",
    "train_df = train_df.reset_index(drop=True)\n",
    "validate_df = validate_df.reset_index(drop=True)\n",
    "\n",
    "train_number = len(train_df)\n",
    "validate_number = len(validate_df)\n",
    "print ('Anzahl der Bilder (Train):',train_number)\n",
    "print ('Anzahl der Bilder (Validate):',validate_number)"
   ]
  },
  {
   "cell_type": "code",
   "execution_count": 4,
   "metadata": {},
   "outputs": [
    {
     "name": "stdout",
     "output_type": "stream",
     "text": [
      "WARNING:tensorflow:From c:\\Users\\hanne\\AppData\\Local\\Programs\\Python\\Python311\\Lib\\site-packages\\keras\\src\\losses.py:2976: The name tf.losses.sparse_softmax_cross_entropy is deprecated. Please use tf.compat.v1.losses.sparse_softmax_cross_entropy instead.\n",
      "\n",
      "WARNING:tensorflow:From c:\\Users\\hanne\\AppData\\Local\\Programs\\Python\\Python311\\Lib\\site-packages\\keras\\src\\backend.py:873: The name tf.get_default_graph is deprecated. Please use tf.compat.v1.get_default_graph instead.\n",
      "\n",
      "WARNING:tensorflow:From c:\\Users\\hanne\\AppData\\Local\\Programs\\Python\\Python311\\Lib\\site-packages\\keras\\src\\layers\\normalization\\batch_normalization.py:979: The name tf.nn.fused_batch_norm is deprecated. Please use tf.compat.v1.nn.fused_batch_norm instead.\n",
      "\n",
      "Model: \"sequential\"\n",
      "_________________________________________________________________\n",
      " Layer (type)                Output Shape              Param #   \n",
      "=================================================================\n",
      " inception_v3 (Functional)   (None, 5, 5, 2048)        21802784  \n",
      "                                                                 \n",
      " flatten (Flatten)           (None, 51200)             0         \n",
      "                                                                 \n",
      " dense (Dense)               (None, 256)               13107456  \n",
      "                                                                 \n",
      " dense_1 (Dense)             (None, 512)               131584    \n",
      "                                                                 \n",
      " dense_2 (Dense)             (None, 3)                 1539      \n",
      "                                                                 \n",
      "=================================================================\n",
      "Total params: 35043363 (133.68 MB)\n",
      "Trainable params: 13240579 (50.51 MB)\n",
      "Non-trainable params: 21802784 (83.17 MB)\n",
      "_________________________________________________________________\n"
     ]
    }
   ],
   "source": [
    "from tensorflow.keras import layers\n",
    "from tensorflow.keras import models \n",
    "from tensorflow.keras.applications.inception_v3 import InceptionV3\n",
    "from tensorflow.keras.applications.inception_v3 import preprocess_input, decode_predictions\n",
    "from tensorflow.keras.preprocessing import image\n",
    "from tensorflow.keras import optimizers\n",
    "\n",
    "# Erstellung des Modells\n",
    "model = models.Sequential()\n",
    "# definieren des Basis-Modells \n",
    "base_model = InceptionV3(weights='imagenet',include_top=False, input_shape=(224, 224, 3))\n",
    "# hinzufügen des InceptionV3 Netzes zum Modell \n",
    "model.add(base_model)\n",
    "\n",
    "# definieren des Prädikationsblock \n",
    "model.add(layers.Flatten())\n",
    "model.add(layers.Dense(256, activation='relu'))\n",
    "model.add(layers.Dense(512, activation='relu'))\n",
    "model.add(layers.Dense(3, activation='softmax')) # 3 Klassen: Zwiebel, Karotte, Kartoffel\n",
    "# deaktivieren des Training des Basis Modells \n",
    "base_model.trainable = False \n",
    "model.summary()"
   ]
  },
  {
   "cell_type": "code",
   "execution_count": 5,
   "metadata": {},
   "outputs": [],
   "source": [
    "model.compile(loss='binary_crossentropy',optimizer=optimizers.RMSprop(1e-4),metrics=['acc'])"
   ]
  },
  {
   "cell_type": "markdown",
   "metadata": {},
   "source": [
    "### Vorbereiten der Daten\n"
   ]
  },
  {
   "cell_type": "code",
   "execution_count": 6,
   "metadata": {},
   "outputs": [
    {
     "name": "stdout",
     "output_type": "stream",
     "text": [
      "Found 2646 validated image filenames belonging to 3 classes.\n",
      "Found 662 validated image filenames belonging to 3 classes.\n"
     ]
    }
   ],
   "source": [
    "from tensorflow.keras.preprocessing.image import ImageDataGenerator\n",
    "\n",
    "# rescalen und Data Augmentation für Trainingsdaten \n",
    "train_datagen = ImageDataGenerator(\n",
    "    rescale=1./255,\n",
    "    rotation_range=40,\n",
    "    width_shift_range=0.2,\n",
    "    height_shift_range = 0.2, \n",
    "    shear_range = 0.2,\n",
    "    zoom_range = 0.2,\n",
    "    horizontal_flip = True\n",
    "    )\n",
    "# rescalen der Testdaten \n",
    "test_datagen = ImageDataGenerator(\n",
    "    rescale = 1./255\n",
    "    )\n",
    "\n",
    "# laden der Bilder über den ImageDataGenerator \n",
    "train_generator = train_datagen.flow_from_dataframe(\n",
    "    train_df,\n",
    "    x_col='filename',\n",
    "    y_col='category',\n",
    "    target_size=(IMAGE_WIDTH,IMAGE_HEIGHT),\n",
    "    batch_size  = batch_size,\n",
    "    class_mode = 'categorical' \n",
    ")\n",
    "\n",
    "test_generator = test_datagen.flow_from_dataframe(\n",
    "    validate_df,\n",
    "    x_col='filename',\n",
    "    y_col='category',\n",
    "    target_size=(IMAGE_WIDTH,IMAGE_HEIGHT),\n",
    "    batch_size  = batch_size,\n",
    "    class_mode = 'categorical' \n",
    ")"
   ]
  },
  {
   "cell_type": "markdown",
   "metadata": {},
   "source": [
    "### Trainieren des Netzes\n"
   ]
  },
  {
   "cell_type": "code",
   "execution_count": 7,
   "metadata": {},
   "outputs": [
    {
     "name": "stdout",
     "output_type": "stream",
     "text": [
      "Epoch 1/5\n",
      "WARNING:tensorflow:From c:\\Users\\hanne\\AppData\\Local\\Programs\\Python\\Python311\\Lib\\site-packages\\keras\\src\\utils\\tf_utils.py:492: The name tf.ragged.RaggedTensorValue is deprecated. Please use tf.compat.v1.ragged.RaggedTensorValue instead.\n",
      "\n",
      "WARNING:tensorflow:From c:\\Users\\hanne\\AppData\\Local\\Programs\\Python\\Python311\\Lib\\site-packages\\keras\\src\\engine\\base_layer_utils.py:384: The name tf.executing_eagerly_outside_functions is deprecated. Please use tf.compat.v1.executing_eagerly_outside_functions instead.\n",
      "\n",
      "100/100 [==============================] - 107s 1s/step - loss: 0.1937 - acc: 0.9110 - val_loss: 0.0336 - val_acc: 0.9864\n",
      "Epoch 2/5\n",
      "100/100 [==============================] - 98s 975ms/step - loss: 0.0552 - acc: 0.9743 - val_loss: 0.0624 - val_acc: 0.9712\n",
      "Epoch 3/5\n",
      "100/100 [==============================] - 101s 1s/step - loss: 0.0400 - acc: 0.9794 - val_loss: 0.0307 - val_acc: 0.9848\n",
      "Epoch 4/5\n",
      "100/100 [==============================] - 101s 1s/step - loss: 0.0386 - acc: 0.9789 - val_loss: 0.0235 - val_acc: 0.9879\n",
      "Epoch 5/5\n",
      "100/100 [==============================] - 98s 984ms/step - loss: 0.0402 - acc: 0.9778 - val_loss: 0.0165 - val_acc: 0.9879\n"
     ]
    }
   ],
   "source": [
    "history = model.fit(train_generator,\n",
    "steps_per_epoch=100,\n",
    "epochs = 5, #40\n",
    "validation_data = test_generator,\n",
    "validation_steps=validate_number//batch_size)"
   ]
  },
  {
   "cell_type": "code",
   "execution_count": 8,
   "metadata": {},
   "outputs": [],
   "source": [
    "# Das Modell kann zum Vergleichen von unterschiedlichen Parametern des Prädikationsblocks abgespeichert werden\n",
    "# model.save('cats_dogs_1.h5')"
   ]
  },
  {
   "cell_type": "markdown",
   "metadata": {},
   "source": [
    "### Auswerten des Netzes\n"
   ]
  },
  {
   "cell_type": "code",
   "execution_count": 9,
   "metadata": {},
   "outputs": [],
   "source": [
    "import matplotlib.pyplot as plt \n",
    "\n",
    "acc = history.history['acc']\n",
    "val_acc = history.history['val_acc']\n",
    "loss = history.history['loss']\n",
    "val_loss = history.history['val_loss']\n",
    "\n",
    "epochs = range(len(acc))"
   ]
  },
  {
   "cell_type": "code",
   "execution_count": 10,
   "metadata": {},
   "outputs": [
    {
     "data": {
      "text/plain": [
       "<Figure size 640x480 with 0 Axes>"
      ]
     },
     "execution_count": 10,
     "metadata": {},
     "output_type": "execute_result"
    },
    {
     "data": {
      "image/png": "[encoded data removed]",
      "text/plain": [
       "<Figure size 640x480 with 1 Axes>"
      ]
     },
     "metadata": {},
     "output_type": "display_data"
    },
    {
     "data": {
      "text/plain": [
       "<Figure size 640x480 with 0 Axes>"
      ]
     },
     "metadata": {},
     "output_type": "display_data"
    }
   ],
   "source": [
    "plt.plot(epochs,acc,'bo',label='Trainingsgenauigkeit')\n",
    "plt.plot(epochs,val_acc,'b',label='Validierungsgenauigkeit')\n",
    "plt.title('Trainings und  Validierungsgenauigkeit')\n",
    "plt.legend()\n",
    "plt.figure()"
   ]
  },
  {
   "cell_type": "code",
   "execution_count": 11,
   "metadata": {},
   "outputs": [
    {
     "data": {
      "text/plain": [
       "<Figure size 640x480 with 0 Axes>"
      ]
     },
     "execution_count": 11,
     "metadata": {},
     "output_type": "execute_result"
    },
    {
     "data": {
      "image/png": "[encoded data removed]",
      "text/plain": [
       "<Figure size 640x480 with 1 Axes>"
      ]
     },
     "metadata": {},
     "output_type": "display_data"
    },
    {
     "data": {
      "text/plain": [
       "<Figure size 640x480 with 0 Axes>"
      ]
     },
     "metadata": {},
     "output_type": "display_data"
    }
   ],
   "source": [
    "plt.plot(epochs,loss,'bo',label='Trainings-Loss')\n",
    "plt.plot(epochs,val_loss,'b',label='Validierungs-Loss')\n",
    "plt.title('Trainings und  Validierungs-Loss')\n",
    "plt.legend()\n",
    "plt.figure()"
   ]
  }
 ],
 "metadata": {
  "kernelspec": {
   "display_name": "Python 3.10.4 ('env': venv)",
   "language": "python",
   "name": "python3"
  },
  "language_info": {
   "codemirror_mode": {
    "name": "ipython",
    "version": 3
   },
   "file_extension": ".py",
   "mimetype": "text/x-python",
   "name": "python",
   "nbconvert_exporter": "python",
   "pygments_lexer": "ipython3",
   "version": "3.11.5"
  },
  "orig_nbformat": 4,
  "vscode": {
   "interpreter": {
    "hash": "3d580cc932caa59f6d64cbc09e4ecd47933d1d2aa96199041cf694e848b778d3"
   }
  }
 },
 "nbformat": 4,
 "nbformat_minor": 2
}
