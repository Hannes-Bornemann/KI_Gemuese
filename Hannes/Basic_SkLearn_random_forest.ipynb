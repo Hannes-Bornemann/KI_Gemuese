{
 "cells": [
  {
   "cell_type": "markdown",
   "metadata": {},
   "source": [
    "### Random Forest aus SkLearn\n"
   ]
  },
  {
   "cell_type": "code",
   "execution_count": 2,
   "metadata": {},
   "outputs": [
    {
     "name": "stderr",
     "output_type": "stream",
     "text": [
      "c:\\Users\\hanne\\AppData\\Local\\Programs\\Python\\Python311\\Lib\\site-packages\\sklearn\\base.py:1152: DataConversionWarning: A column-vector y was passed when a 1d array was expected. Please change the shape of y to (n_samples,), for example using ravel().\n",
      "  return fit_method(estimator, *args, **kwargs)\n"
     ]
    }
   ],
   "source": [
    "import pandas as pd\n",
    "from sklearn.model_selection import train_test_split\n",
    "from sklearn import ensemble\n",
    "\n",
    "# Einlesen der Daten\n",
    "data = pd.read_csv(\"output.csv\", index_col=0)\n",
    "data_burghart = pd.read_csv(\"output_burghart.csv\", index_col=0)\n",
    "\n",
    "# Entfernen von Spalten, die nicht für die Klassifikation benötigt werden\n",
    "X = data.iloc[:, :-1].values\n",
    "Y = data.iloc[:, -1].values.reshape(-1, 1)\n",
    "X_burghart_test = data.iloc[:, :-1].values\n",
    "Y_burghart_test = data.iloc[:, -1].values.reshape(-1, 1)\n",
    "\n",
    "# Aufteilen in Trainings- und Testdaten\n",
    "X_train, X_test, Y_train, Y_test = train_test_split(X, Y, test_size=0.2, random_state=1234)\n",
    "\n",
    "# random-Forest-Modell initialisieren und trainieren\n",
    "RF_classifier = ensemble.RandomForestClassifier() #Klassifikator initialisieren mnit Standardparametern (100 trees, gini criterion)\n",
    "RF_classifier.fit(X_train, Y_train)\n",
    "\n",
    "# Vorhersagen für Testdaten treffen\n",
    "Y_pred = RF_classifier.predict(X_test) \n",
    "Y_burghart_pred = RF_classifier.predict(X_burghart_test)"
   ]
  },
  {
   "cell_type": "code",
   "execution_count": 3,
   "metadata": {},
   "outputs": [
    {
     "name": "stdout",
     "output_type": "stream",
     "text": [
      "Accuracy score:          0.879154078549849\n",
      "Accuracy score burghart: 0.9758088902328395\n",
      "\n",
      "confusion matrix:\n",
      "[[178   2  36]\n",
      " [  6 135   8]\n",
      " [ 23   5 269]] \n",
      "\n",
      "              precision    recall  f1-score   support\n",
      "\n",
      "           0       0.86      0.82      0.84       216\n",
      "           1       0.95      0.91      0.93       149\n",
      "           2       0.86      0.91      0.88       297\n",
      "\n",
      "    accuracy                           0.88       662\n",
      "   macro avg       0.89      0.88      0.88       662\n",
      "weighted avg       0.88      0.88      0.88       662\n",
      "\n"
     ]
    }
   ],
   "source": [
    "from sklearn.metrics import confusion_matrix, classification_report, accuracy_score\n",
    "import numpy as np\n",
    "\n",
    "# acc = Anzahl vorhergesagte Klassen die der echten Klasse entsprechen / Gesamtanzahl\n",
    "acc = accuracy_score(Y_test, Y_pred)\n",
    "acc_burghart = accuracy_score(Y_burghart_test, Y_burghart_pred)\n",
    "\n",
    "print(\"Accuracy score:         \", acc)\n",
    "print(\"Accuracy score burghart:\", acc_burghart)\n",
    "\n",
    "# Ausgabe der Konfusion Matrix \n",
    "print('\\nconfusion matrix:')\n",
    "print(confusion_matrix(Y_test, Y_pred),'\\n')\n",
    "\n",
    "# Ausgabe des Classifikation Report\n",
    "print(classification_report(Y_test, Y_pred))\n",
    "\n",
    "# Precision = Prozentsatz der korrekt positiven Vorhersagen zu allen positiven Vorhersagen  (True Positives/ all predicted Positives)\n",
    "# recall    = Prozentsatz der korrekt positiven Vorhersagen zu allen tatsächlich Positiven  (True Positives/ all real Positives)\n",
    "# f1-score  = Mittelwert aus Precision und Recall                                              "
   ]
  }
 ],
 "metadata": {
  "kernelspec": {
   "display_name": "Python 3",
   "language": "python",
   "name": "python3"
  },
  "language_info": {
   "codemirror_mode": {
    "name": "ipython",
    "version": 3
   },
   "file_extension": ".py",
   "mimetype": "text/x-python",
   "name": "python",
   "nbconvert_exporter": "python",
   "pygments_lexer": "ipython3",
   "version": "3.11.5"
  }
 },
 "nbformat": 4,
 "nbformat_minor": 2
}
